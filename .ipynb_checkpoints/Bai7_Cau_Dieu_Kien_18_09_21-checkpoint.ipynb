{
 "cells": [
  {
   "cell_type": "code",
   "execution_count": 7,
   "id": "9b92f9f3",
   "metadata": {},
   "outputs": [
    {
     "name": "stdout",
     "output_type": "stream",
     "text": [
      " Nhập số đầu vào:10\n",
      " Nhập số đối chiếu:15\n"
     ]
    }
   ],
   "source": [
    "#Câu lệnh if condition: (nhớ: condition để trong cặp dấu ngoặc nhọn (), kết thúc bằng dấu :)\n",
    "#    statement1 ( lùi 4 ký tự )\n",
    "#statement2\n",
    "#Khai báo biên\n",
    "a = int(input(\" Nhập số đầu vào:\"))\n",
    "b = int(input(\" Nhập số đối chiếu:\"))"
   ]
  },
  {
   "cell_type": "code",
   "execution_count": 5,
   "id": "a71fc22a",
   "metadata": {
    "scrolled": true
   },
   "outputs": [
    {
     "name": "stdout",
     "output_type": "stream",
     "text": [
      "Số nhập vào là 10 nhỏ hơn số đối chiếu là : 15\n"
     ]
    }
   ],
   "source": [
    "#Kiểm tra điều kiện\n",
    "if(a>b):\n",
    "    print(f\"Số nhập vào là {a} lớn hơn số đối chiếu là : {b}\")\n",
    "print(f\"Số nhập vào là {a} nhỏ hơn số đối chiếu là : {b}\")"
   ]
  },
  {
   "cell_type": "code",
   "execution_count": null,
   "id": "7119aa6b",
   "metadata": {},
   "outputs": [],
   "source": [
    "#câu điều kiện if.....else\n",
    "#if (condition):\n",
    "    #execute this block if condition is true\n",
    "#else: ( nhớ kết thúc sau else có dấu hai chấm : )\n",
    "    #execute this block if is false"
   ]
  },
  {
   "cell_type": "code",
   "execution_count": 17,
   "id": "1f53489f",
   "metadata": {},
   "outputs": [
    {
     "name": "stdout",
     "output_type": "stream",
     "text": [
      "Số lớn nhất là : 15\n"
     ]
    }
   ],
   "source": [
    "if (a>b):\n",
    "    print(f\"Số lớn nhất là : {a}\")\n",
    "else: \n",
    "    print(f\"Số lớn nhất là : {b}\")"
   ]
  },
  {
   "cell_type": "code",
   "execution_count": 25,
   "id": "ed362cb6",
   "metadata": {},
   "outputs": [
    {
     "name": "stdout",
     "output_type": "stream",
     "text": [
      "Số nhập vào 10 bằng 10\n",
      "Số nhập vào 10 nhỏ hơn hoặc bằng 12\n",
      "Số nhập vào 10 nhỏ hơn hoặc bằng 15\n"
     ]
    }
   ],
   "source": [
    "if (a==10):\n",
    "    print(f\"Số nhập vào {a} bằng 10\")\n",
    "    if (a<15):\n",
    "        print(f\"Số nhập vào {a} nhỏ hơn hoặc bằng 12\")\n",
    "    if (a<12):\n",
    "        print(f\"Số nhập vào {a} nhỏ hơn hoặc bằng 15\")\n",
    "    else:\n",
    "        print(f\"Số nhập vào {a} lớn hơn 15\")"
   ]
  },
  {
   "cell_type": "code",
   "execution_count": 29,
   "id": "7ec1f9e6",
   "metadata": {},
   "outputs": [
    {
     "name": "stdout",
     "output_type": "stream",
     "text": [
      "Số nhập vào 10 bằng 10\n"
     ]
    }
   ],
   "source": [
    "if (a==10):\n",
    "    print(f\"Số nhập vào {a} bằng {a}\")\n",
    "elif (a==15):\n",
    "    print(f\"Số nhập vào {a} bằng {a}\")\n",
    "elif (a==20):\n",
    "    print(f\"Số nhập vào {a} bằng {a}\")\n",
    "else:\n",
    "    print(f\"Số nhập vào không tồn tại\")\n",
    "    "
   ]
  }
 ],
 "metadata": {
  "kernelspec": {
   "display_name": "Python 3 (ipykernel)",
   "language": "python",
   "name": "python3"
  },
  "language_info": {
   "codemirror_mode": {
    "name": "ipython",
    "version": 3
   },
   "file_extension": ".py",
   "mimetype": "text/x-python",
   "name": "python",
   "nbconvert_exporter": "python",
   "pygments_lexer": "ipython3",
   "version": "3.9.6"
  }
 },
 "nbformat": 4,
 "nbformat_minor": 5
}
